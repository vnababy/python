{
  "nbformat": 4,
  "nbformat_minor": 0,
  "metadata": {
    "colab": {
      "name": "python Data Structures.ipynb",
      "provenance": [],
      "authorship_tag": "ABX9TyO6Jd40D8ZtnCmbniU/gt0S",
      "include_colab_link": true
    },
    "kernelspec": {
      "name": "python3",
      "display_name": "Python 3"
    },
    "language_info": {
      "name": "python"
    }
  },
  "cells": [
    {
      "cell_type": "markdown",
      "metadata": {
        "id": "view-in-github",
        "colab_type": "text"
      },
      "source": [
        "<a href=\"https://colab.research.google.com/github/vnababy/python/blob/main/python_Data_Structures.ipynb\" target=\"_parent\"><img src=\"https://colab.research.google.com/assets/colab-badge.svg\" alt=\"Open In Colab\"/></a>"
      ]
    },
    {
      "cell_type": "code",
      "execution_count": null,
      "metadata": {
        "id": "5QkUvEMREOTj"
      },
      "outputs": [],
      "source": [
        ""
      ]
    },
    {
      "cell_type": "markdown",
      "source": [
        "List:A list in Python is used to store the sequence of various types of data.\n",
        "\n",
        "Example:\n"
      ],
      "metadata": {
        "id": "rqQBZuzJEVz3"
      }
    },
    {
      "cell_type": "code",
      "source": [
        "List1=[\"Apple\",\"Mango\", \"Grapes\",1,2,3,]\n",
        "List2=[\"Apple\",\"Mango\", \"Grapes\",1,2,3,]\n",
        "list1=List2\n"
      ],
      "metadata": {
        "id": "YTXi6yW8EpnM"
      },
      "execution_count": null,
      "outputs": []
    },
    {
      "cell_type": "code",
      "source": [
        "List1=[\"Apple\",\"Mango\", \"Grapes\",1,2,3,]\n",
        "list1=List2\n",
        "print(List2)\n"
      ],
      "metadata": {
        "colab": {
          "base_uri": "https://localhost:8080/"
        },
        "id": "N5mQUS-jFW7M",
        "outputId": "42016cb0-8e69-4740-89ad-0c5a16f1b9cb"
      },
      "execution_count": null,
      "outputs": [
        {
          "output_type": "stream",
          "name": "stdout",
          "text": [
            "['Apple', 'Mango', 'Grapes', 1, 2, 3, 4]\n"
          ]
        }
      ]
    },
    {
      "cell_type": "code",
      "source": [
        ""
      ],
      "metadata": {
        "id": "09Py8kA-nhtb"
      },
      "execution_count": null,
      "outputs": []
    },
    {
      "cell_type": "markdown",
      "source": [
        "append() - adds an element to the end of the list"
      ],
      "metadata": {
        "id": "gFRf3hmVnh-l"
      }
    },
    {
      "cell_type": "code",
      "source": [
        "List1=[\"Apple\",\"Mango\", \"Grapes\",1,2,3,]\n",
        "List2=[\"Apple\",\"Mango\", \"Grapes\",1,2,3,]\n",
        "List2.append (6)\n",
        "List1.append (9)\n",
        "print(List1)\n",
        "print(List2)"
      ],
      "metadata": {
        "colab": {
          "base_uri": "https://localhost:8080/"
        },
        "id": "AxOd2FtynqFC",
        "outputId": "fca08f40-1d0b-4ff6-9db9-d95fb9a3e75b"
      },
      "execution_count": null,
      "outputs": [
        {
          "output_type": "stream",
          "name": "stdout",
          "text": [
            "['Apple', 'Mango', 'Grapes', 1, 2, 3, 9]\n",
            "['Apple', 'Mango', 'Grapes', 1, 2, 3, 6]\n"
          ]
        }
      ]
    },
    {
      "cell_type": "code",
      "source": [
        ""
      ],
      "metadata": {
        "id": "4k7DNY0mo-u8"
      },
      "execution_count": null,
      "outputs": []
    },
    {
      "cell_type": "markdown",
      "source": [
        "extend()- adds all elements of a list to another list"
      ],
      "metadata": {
        "id": "uWTviNBmo_Vj"
      }
    },
    {
      "cell_type": "code",
      "source": [
        "list1=[\"Apple\",\"Mango\", \"Grapes\",1,2,3,]\n",
        "list2=[\"Apple\",\"Mango\", \"Grapes\",1,2,3,]\n",
        "list2.extend([6,7,8,\"Ram\",\"sita\"])\n",
        "print(list1)\n",
        "print(list2)\n",
        "\n"
      ],
      "metadata": {
        "colab": {
          "base_uri": "https://localhost:8080/"
        },
        "id": "bYBJB-NT8uuV",
        "outputId": "4d4677df-bb15-4f5a-cdd4-d5ec3312f4f7"
      },
      "execution_count": null,
      "outputs": [
        {
          "output_type": "stream",
          "name": "stdout",
          "text": [
            "['Apple', 'Mango', 'Grapes', 1, 2, 3]\n",
            "['Apple', 'Mango', 'Grapes', 1, 2, 3, 6, 7, 8, 'Ram', 'sita']\n"
          ]
        }
      ]
    },
    {
      "cell_type": "code",
      "source": [
        ""
      ],
      "metadata": {
        "id": "KAhVFfsj-TnG"
      },
      "execution_count": null,
      "outputs": []
    },
    {
      "cell_type": "markdown",
      "source": [
        ""
      ],
      "metadata": {
        "id": "bTe4QSeF-T5h"
      }
    },
    {
      "cell_type": "markdown",
      "source": [
        "insert()- inserts an item at the defined index\n"
      ],
      "metadata": {
        "id": "rcPlpMvj-KvJ"
      }
    },
    {
      "cell_type": "code",
      "source": [
        "list1=[\"Apple\",\"Mango\", \"Grapes\",1,2,3,]\n",
        "list2=[\"Apple\",\"Mango\", \"Grapes\",1,2,3,]\n",
        "list1.insert(2,\"ram\")\n",
        "list2.insert(4,\"ram\")\n",
        "print(list1)\n",
        "print(list2)"
      ],
      "metadata": {
        "colab": {
          "base_uri": "https://localhost:8080/"
        },
        "id": "qygKPvDY-V0-",
        "outputId": "2e3ff83c-aca6-4e8f-a1ec-02caa2b0ca71"
      },
      "execution_count": null,
      "outputs": [
        {
          "output_type": "stream",
          "name": "stdout",
          "text": [
            "['Apple', 'Mango', 'ram', 'Grapes', 1, 2, 3]\n",
            "['Apple', 'Mango', 'Grapes', 1, 'ram', 2, 3]\n"
          ]
        }
      ]
    },
    {
      "cell_type": "markdown",
      "source": [
        "remove() - removes an item from the list"
      ],
      "metadata": {
        "id": "esisrAYD_8E-"
      }
    },
    {
      "cell_type": "markdown",
      "source": [
        "The remove() method removes the specified item."
      ],
      "metadata": {
        "id": "LDbqYvb7ArUb"
      }
    },
    {
      "cell_type": "code",
      "source": [
        "list1=[\"Apple\",\"Mango\", \"Grapes\",1,2,3,]\n",
        "list2=[\"Apple\",\"Mango\", \"Grapes\",1,2,3,]\n",
        "list1.remove(\"Apple\")\n",
        "print(list1)"
      ],
      "metadata": {
        "colab": {
          "base_uri": "https://localhost:8080/"
        },
        "id": "cjxrIElb__xl",
        "outputId": "c9ac7c8e-c166-410f-86f4-e79762331144"
      },
      "execution_count": null,
      "outputs": [
        {
          "output_type": "stream",
          "name": "stdout",
          "text": [
            "['Mango', 'Grapes', 1, 2, 3]\n"
          ]
        }
      ]
    },
    {
      "cell_type": "code",
      "source": [
        ""
      ],
      "metadata": {
        "id": "IpU1KmQTAkFl"
      },
      "execution_count": null,
      "outputs": []
    },
    {
      "cell_type": "markdown",
      "source": [
        "pop() - returns and removes an element at the given index /The pop() method removes the specified index."
      ],
      "metadata": {
        "id": "wxJAGfjeAkdC"
      }
    },
    {
      "cell_type": "code",
      "source": [
        "list1=[\"Apple\",\"Mango\", \"Grapes\",1,2,3,]\n",
        "list2=[\"Apple\",\"Mango\", \"Grapes\",1,2,3,]\n",
        "list2.pop(1)\n",
        "print(list2)\n"
      ],
      "metadata": {
        "colab": {
          "base_uri": "https://localhost:8080/"
        },
        "id": "6WxLLhW9Azov",
        "outputId": "b69b2759-82fd-44b1-cbf5-11597a399c49"
      },
      "execution_count": null,
      "outputs": [
        {
          "output_type": "stream",
          "name": "stdout",
          "text": [
            "['Apple', 'Grapes', 1, 2, 3]\n"
          ]
        }
      ]
    },
    {
      "cell_type": "code",
      "source": [
        ""
      ],
      "metadata": {
        "id": "oQunSNCVIgQ6"
      },
      "execution_count": null,
      "outputs": []
    },
    {
      "cell_type": "markdown",
      "source": [
        "clear()- removes all items from the list/The clear() method empties the list."
      ],
      "metadata": {
        "id": "VeWq3sq2IgyT"
      }
    },
    {
      "cell_type": "markdown",
      "source": [
        ""
      ],
      "metadata": {
        "id": "J8wxrwqaIi_L"
      }
    },
    {
      "cell_type": "code",
      "source": [
        "list1=[\"Apple\",\"Mango\", \"Grapes\",1,2,3,]\n",
        "list2=[\"Apple\",\"Mango\", \"Grapes\",1,2,3,]\n",
        "list1.clear()\n",
        "print(list1)"
      ],
      "metadata": {
        "colab": {
          "base_uri": "https://localhost:8080/"
        },
        "id": "4j6mDpLeIlQ4",
        "outputId": "d5b66700-d6a3-48e7-dbd7-116ec74c3760"
      },
      "execution_count": null,
      "outputs": [
        {
          "output_type": "stream",
          "name": "stdout",
          "text": [
            "[]\n"
          ]
        }
      ]
    },
    {
      "cell_type": "code",
      "source": [
        ""
      ],
      "metadata": {
        "id": "Ix0hjPtHJLqM"
      },
      "execution_count": null,
      "outputs": []
    },
    {
      "cell_type": "markdown",
      "source": [
        "Index() - returns the index of the first matched item/"
      ],
      "metadata": {
        "id": "RLR60ViNJNb2"
      }
    },
    {
      "cell_type": "code",
      "source": [
        "list1=[\"Apple\",\"Mango\", \"Grapes\",1,2,3,]\n",
        "list2=[\"Apple\",\"Mango\", \"Grapes\",1,2,3,]\n",
        "print(list1[2:5])"
      ],
      "metadata": {
        "colab": {
          "base_uri": "https://localhost:8080/"
        },
        "id": "EZQd7LHBJvV3",
        "outputId": "ad0bb837-918b-44d4-ad04-61f5eb7f0e5a"
      },
      "execution_count": null,
      "outputs": [
        {
          "output_type": "stream",
          "name": "stdout",
          "text": [
            "['Grapes', 1, 2]\n"
          ]
        }
      ]
    },
    {
      "cell_type": "markdown",
      "source": [
        "Negative Indexing:Negative indexing means start from the end\n",
        "\n",
        "-1 refers to the last item, -2 refers to the second last item etc."
      ],
      "metadata": {
        "id": "Il7NPzbcLRqM"
      }
    },
    {
      "cell_type": "code",
      "source": [
        "list1=[\"Apple\",\"Mango\", \"Grapes\",1,2,3,]\n",
        "list2=[\"Apple\",\"Mango\", \"Grapes\",1,2,3,]\n",
        "print(list1[-2])"
      ],
      "metadata": {
        "colab": {
          "base_uri": "https://localhost:8080/"
        },
        "id": "fNLTU65fJaaA",
        "outputId": "4631a936-bf12-4c1c-ed47-3393e2297265"
      },
      "execution_count": null,
      "outputs": [
        {
          "output_type": "stream",
          "name": "stdout",
          "text": [
            "2\n"
          ]
        }
      ]
    },
    {
      "cell_type": "markdown",
      "source": [
        ""
      ],
      "metadata": {
        "id": "hkqPqIO-LQVv"
      }
    },
    {
      "cell_type": "markdown",
      "source": [
        "Range of Indexes:It can specify a range of indexes by specifying where to start and where to end the range.\n",
        "\n",
        "When specifying a range, the return value will be a new list with the specified items."
      ],
      "metadata": {
        "id": "oYhRfEF-LyE6"
      }
    },
    {
      "cell_type": "code",
      "source": [
        "list1=[\"Apple\",\"Mango\", \"Grapes\",1,2,3,]\n",
        "list2=[\"Apple\",\"Mango\", \"Grapes\",1,2,3,]\n",
        "print(list2[2:6])\n",
        "print(list2)"
      ],
      "metadata": {
        "colab": {
          "base_uri": "https://localhost:8080/"
        },
        "id": "KgE99iAIIjb5",
        "outputId": "a589eb6e-c280-491e-b2a6-3648c3e950a1"
      },
      "execution_count": null,
      "outputs": [
        {
          "output_type": "stream",
          "name": "stdout",
          "text": [
            "['Grapes', 1, 2, 3]\n",
            "['Apple', 'Mango', 'Grapes', 1, 2, 3]\n"
          ]
        }
      ]
    },
    {
      "cell_type": "markdown",
      "source": [
        "count() - returns the count of the number of items passed as an argument/The count() method returns the number of elements with the specified value."
      ],
      "metadata": {
        "id": "ENPptd4PMLr2"
      }
    },
    {
      "cell_type": "code",
      "source": [
        "list1=[\"Apple\",\"Mango\", \"Grapes\",1,2,3,2,2,2]\n",
        "list2=[\"Apple\",\"Mango\", \"Grapes\",1,2,3,]\n",
        "list1.count(2)\n"
      ],
      "metadata": {
        "colab": {
          "base_uri": "https://localhost:8080/"
        },
        "id": "iBnFalvZIjla",
        "outputId": "1ed61dbd-134b-458c-8923-1bcc1f5930d4"
      },
      "execution_count": null,
      "outputs": [
        {
          "output_type": "execute_result",
          "data": {
            "text/plain": [
              "4"
            ]
          },
          "metadata": {},
          "execution_count": 33
        }
      ]
    },
    {
      "cell_type": "markdown",
      "source": [
        "sort() - sort items in a list in ascending order"
      ],
      "metadata": {
        "id": "9M6gAsfNNrFv"
      }
    },
    {
      "cell_type": "code",
      "source": [
        "list1=[\"Apple\",\"Mango\", \"Grapes\",1,2,3,2,2,2]\n",
        "list=[23,567,90,3,56,1]\n",
        "list2=[\"Apple\",\"Mango\", \"Grapes\",1,2,3,]\n",
        "list.sort()\n",
        "print(list)\n"
      ],
      "metadata": {
        "colab": {
          "base_uri": "https://localhost:8080/"
        },
        "id": "UrAqw9STsEfP",
        "outputId": "d172e01c-3cc7-47ce-d549-5dd03ba1ef70"
      },
      "execution_count": null,
      "outputs": [
        {
          "output_type": "stream",
          "name": "stdout",
          "text": [
            "[1, 3, 23, 56, 90, 567]\n"
          ]
        }
      ]
    },
    {
      "cell_type": "markdown",
      "source": [
        "To sort descending, use the keyword argument reverse = True:"
      ],
      "metadata": {
        "id": "f6ME-NoUsrIZ"
      }
    },
    {
      "cell_type": "code",
      "source": [
        "list1=[\"Apple\",\"Mango\", \"Grapes\",1,2,3,2,2,2]\n",
        "list=[23,567,90,3,56,1]\n",
        "list2=[\"Apple\",\"Mango\", \"Grapes\",1,2,3,]\n",
        "list.sort(reverse = True)\n",
        "print(list)"
      ],
      "metadata": {
        "colab": {
          "base_uri": "https://localhost:8080/"
        },
        "id": "1JI6ycfispIX",
        "outputId": "62c336f6-c3c0-4052-f1f1-eaf35acf48be"
      },
      "execution_count": null,
      "outputs": [
        {
          "output_type": "stream",
          "name": "stdout",
          "text": [
            "[567, 90, 56, 23, 3, 1]\n"
          ]
        }
      ]
    },
    {
      "cell_type": "markdown",
      "source": [
        "copy() - returns a shallow copy of the list/You cannot copy a list simply by typing list2 = list1, because: list2 will only be a reference to list1, and changes made in list1 will automatically also be made in list2.\n",
        "\n",
        "There are ways to make a copy, one way is to use the built-in List method copy()."
      ],
      "metadata": {
        "id": "GA4EqUIpthNU"
      }
    },
    {
      "cell_type": "code",
      "source": [
        "list2=[23,567,90,3,56,1]\n",
        "list1 = list.copy()\n",
        "print(list1)"
      ],
      "metadata": {
        "colab": {
          "base_uri": "https://localhost:8080/"
        },
        "id": "PAipIV8kznAh",
        "outputId": "e623efe8-7338-4776-e92f-a007420c2b7c"
      },
      "execution_count": null,
      "outputs": [
        {
          "output_type": "stream",
          "name": "stdout",
          "text": [
            "[23, 567, 90, 3, 56, 1]\n"
          ]
        }
      ]
    },
    {
      "cell_type": "code",
      "source": [
        ""
      ],
      "metadata": {
        "id": "AtWeBANU0mbl"
      },
      "execution_count": null,
      "outputs": []
    },
    {
      "cell_type": "markdown",
      "source": [
        "Another way to make a copy is to use the built-in method list()."
      ],
      "metadata": {
        "id": "DGLR3X-F0j9x"
      }
    },
    {
      "cell_type": "code",
      "source": [
        "list2=[23,567,90,3,56,1]\n",
        "list1 = list(list2)\n",
        "print(list1)"
      ],
      "metadata": {
        "colab": {
          "base_uri": "https://localhost:8080/",
          "height": 208
        },
        "id": "P4ubt_yJ0np2",
        "outputId": "6557c50f-db68-4dc7-bf32-b33d5b9f1c94"
      },
      "execution_count": null,
      "outputs": [
        {
          "output_type": "error",
          "ename": "TypeError",
          "evalue": "ignored",
          "traceback": [
            "\u001b[0;31m---------------------------------------------------------------------------\u001b[0m",
            "\u001b[0;31mTypeError\u001b[0m                                 Traceback (most recent call last)",
            "\u001b[0;32m<ipython-input-16-fbe8de7ae95c>\u001b[0m in \u001b[0;36m<module>\u001b[0;34m()\u001b[0m\n\u001b[1;32m      1\u001b[0m \u001b[0mlist2\u001b[0m\u001b[0;34m=\u001b[0m\u001b[0;34m[\u001b[0m\u001b[0;36m23\u001b[0m\u001b[0;34m,\u001b[0m\u001b[0;36m567\u001b[0m\u001b[0;34m,\u001b[0m\u001b[0;36m90\u001b[0m\u001b[0;34m,\u001b[0m\u001b[0;36m3\u001b[0m\u001b[0;34m,\u001b[0m\u001b[0;36m56\u001b[0m\u001b[0;34m,\u001b[0m\u001b[0;36m1\u001b[0m\u001b[0;34m]\u001b[0m\u001b[0;34m\u001b[0m\u001b[0;34m\u001b[0m\u001b[0m\n\u001b[0;32m----> 2\u001b[0;31m \u001b[0mlist1\u001b[0m \u001b[0;34m=\u001b[0m \u001b[0mlist\u001b[0m\u001b[0;34m(\u001b[0m\u001b[0mlist2\u001b[0m\u001b[0;34m)\u001b[0m\u001b[0;34m\u001b[0m\u001b[0;34m\u001b[0m\u001b[0m\n\u001b[0m\u001b[1;32m      3\u001b[0m \u001b[0mprint\u001b[0m\u001b[0;34m(\u001b[0m\u001b[0mlist1\u001b[0m\u001b[0;34m)\u001b[0m\u001b[0;34m\u001b[0m\u001b[0;34m\u001b[0m\u001b[0m\n",
            "\u001b[0;31mTypeError\u001b[0m: 'list' object is not callable"
          ]
        }
      ]
    },
    {
      "cell_type": "markdown",
      "source": [
        "len() - returns length of the list./\n",
        "\n",
        "To determine how many items a list has, use the len() function:"
      ],
      "metadata": {
        "id": "3aKRIBas3gCO"
      }
    },
    {
      "cell_type": "code",
      "source": [
        "list2=[23,567,90,3,56,1]\n",
        "print(len(list2))"
      ],
      "metadata": {
        "colab": {
          "base_uri": "https://localhost:8080/"
        },
        "id": "WvuLzwcz3iM1",
        "outputId": "6f30cf57-39f9-449d-9189-19a39d1c2200"
      },
      "execution_count": null,
      "outputs": [
        {
          "output_type": "stream",
          "name": "stdout",
          "text": [
            "6\n"
          ]
        }
      ]
    },
    {
      "cell_type": "markdown",
      "source": [
        "max(list)- It returns the maximum element of the list."
      ],
      "metadata": {
        "id": "CmE2bkG74YrI"
      }
    },
    {
      "cell_type": "code",
      "source": [
        "list2=[23,567,90,3,56,1]\n",
        "print(max(list2))"
      ],
      "metadata": {
        "colab": {
          "base_uri": "https://localhost:8080/"
        },
        "id": "HF21t9FY5D5B",
        "outputId": "aa055680-1668-416e-9e15-807bd11d3bd7"
      },
      "execution_count": null,
      "outputs": [
        {
          "output_type": "stream",
          "name": "stdout",
          "text": [
            "567\n"
          ]
        }
      ]
    },
    {
      "cell_type": "markdown",
      "source": [
        "min(list) - It returns the minimum element of the list."
      ],
      "metadata": {
        "id": "CnwHQKwa6Rb5"
      }
    },
    {
      "cell_type": "code",
      "source": [
        "list2=[23,567,90,3,56,1]\n",
        "print(min(list2))"
      ],
      "metadata": {
        "colab": {
          "base_uri": "https://localhost:8080/"
        },
        "id": "4MEJxW9H5Dpy",
        "outputId": "1397564d-d45a-4110-868d-6d8d08b72b44"
      },
      "execution_count": null,
      "outputs": [
        {
          "output_type": "stream",
          "name": "stdout",
          "text": [
            "1\n"
          ]
        }
      ]
    },
    {
      "cell_type": "markdown",
      "source": [
        "list(seq) -It converts any sequence to the list."
      ],
      "metadata": {
        "id": "xRIolyAf6cfA"
      }
    },
    {
      "cell_type": "code",
      "source": [
        "names=[\"tinku\",\"pinky\",\"chinni\",\"premi\",\"teja\",\"pallu\"]\n",
        "newlist = []\n",
        "\n",
        "for x in names:\n",
        "  if 'i' in x:\n",
        "    newlist.append(x)\n",
        "    print(newlist)"
      ],
      "metadata": {
        "colab": {
          "base_uri": "https://localhost:8080/"
        },
        "id": "ESndE_w75DVX",
        "outputId": "d5cc681b-c75f-475e-cfa6-3410d642a65c"
      },
      "execution_count": null,
      "outputs": [
        {
          "output_type": "stream",
          "name": "stdout",
          "text": [
            "['tinku']\n",
            "['tinku', 'pinky']\n",
            "['tinku', 'pinky', 'chinni']\n",
            "['tinku', 'pinky', 'chinni', 'premi']\n"
          ]
        }
      ]
    },
    {
      "cell_type": "markdown",
      "source": [
        ""
      ],
      "metadata": {
        "id": "cNWCgs-E_V66"
      }
    },
    {
      "cell_type": "markdown",
      "source": [
        "The del keyword also removes the specified index:"
      ],
      "metadata": {
        "id": "YVzQD0jY5Esd"
      }
    },
    {
      "cell_type": "code",
      "source": [
        "thislist = [\"apple\", \"banana\", \"cherry\"]\n",
        "del thislist[0]\n",
        "print(thislist)"
      ],
      "metadata": {
        "colab": {
          "base_uri": "https://localhost:8080/"
        },
        "id": "z3hEYkwE4_WD",
        "outputId": "81bc901f-ac02-474e-cc38-09c63a769976"
      },
      "execution_count": null,
      "outputs": [
        {
          "output_type": "stream",
          "name": "stdout",
          "text": [
            "['banana', 'cherry']\n"
          ]
        }
      ]
    },
    {
      "cell_type": "code",
      "source": [
        ""
      ],
      "metadata": {
        "id": "rGh_wHTT5NPy"
      },
      "execution_count": null,
      "outputs": []
    },
    {
      "cell_type": "code",
      "source": [
        ""
      ],
      "metadata": {
        "id": "EwlL_6PW5Pdd"
      },
      "execution_count": null,
      "outputs": []
    },
    {
      "cell_type": "markdown",
      "source": [
        "The del keyword can also delete the list completely."
      ],
      "metadata": {
        "id": "V8pUcP9s5NyY"
      }
    },
    {
      "cell_type": "code",
      "source": [
        "thislist = [\"apple\", \"banana\", \"cherry\"]\n",
        "del thislist"
      ],
      "metadata": {
        "id": "rYVkiybu5SKF"
      },
      "execution_count": null,
      "outputs": []
    },
    {
      "cell_type": "markdown",
      "source": [
        "Class:A Class is like an object constructor, or a \"blueprint\" for creating objects.\n",
        "\n"
      ],
      "metadata": {
        "id": "py3J4X4e_WtZ"
      }
    },
    {
      "cell_type": "code",
      "source": [
        ""
      ],
      "metadata": {
        "id": "vOvvnzg4T3x_"
      },
      "execution_count": null,
      "outputs": []
    }
  ]
}